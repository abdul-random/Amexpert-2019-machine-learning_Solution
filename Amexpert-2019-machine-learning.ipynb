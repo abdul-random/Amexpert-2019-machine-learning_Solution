{
 "cells": [
  {
   "cell_type": "markdown",
   "metadata": {},
   "source": [
    "# Importing of library "
   ]
  },
  {
   "cell_type": "code",
   "execution_count": 1,
   "metadata": {},
   "outputs": [],
   "source": [
    "import numpy as np\n",
    "import pandas as pd\n",
    "import matplotlib.pyplot as plt\n",
    "import seaborn as sns\n",
    "import warnings\n",
    "warnings.filterwarnings('ignore')\n",
    "from xgboost import XGBClassifier\n",
    "lm=XGBClassifier()"
   ]
  },
  {
   "cell_type": "markdown",
   "metadata": {},
   "source": [
    "# Loding datasets"
   ]
  },
  {
   "cell_type": "code",
   "execution_count": 2,
   "metadata": {},
   "outputs": [],
   "source": [
    "coupon=pd.read_csv('coupon_item_mapping.csv')\n",
    "item_data=pd.read_csv('item_data.csv')\n",
    "customer=pd.read_csv('customer_transaction_data.csv')\n",
    "campaign=pd.read_csv('campaign_data.csv')\n",
    "test=pd.read_csv('test_QyjYwdj.csv')\n",
    "train=pd.read_csv('train.csv')\n",
    "customerdemo=pd.read_csv('customer_demographics.csv')\n",
    "numberchildren_familysize=pd.read_csv('numberchildren_familysize.csv')\n",
    "marital_status_familysize=pd.read_csv('marital_status_familysize.csv')"
   ]
  },
  {
   "cell_type": "markdown",
   "metadata": {},
   "source": [
    "# Treating null value in customer_demographic"
   ]
  },
  {
   "cell_type": "code",
   "execution_count": 3,
   "metadata": {},
   "outputs": [],
   "source": [
    "# it seems that the customerdemo data set have null values so imputing the null values by using conditional statments.\n",
    "# As we see there are null values in 'marital_status' and 'no_of_children'.\n",
    "# if we check the \"\"marital_status\"\" depends apon two factors like \"family_size\",\"no_of_children\" if we groups of marital_status \n",
    "# on basis of these two factors we will see the trand so replacing the values with the \"\"\"\"\"\"MODE\"\"\"\"\"\"  HIGHEST number of accurance.\n",
    "# same as no_of_children is dependent on \"\"marital_status\"\" and \"\"family_size\"\"."
   ]
  },
  {
   "cell_type": "code",
   "execution_count": 4,
   "metadata": {},
   "outputs": [],
   "source": [
    "# Creating the dataframe for the trend:"
   ]
  },
  {
   "cell_type": "code",
   "execution_count": 5,
   "metadata": {},
   "outputs": [
    {
     "data": {
      "text/html": [
       "<div>\n",
       "<style scoped>\n",
       "    .dataframe tbody tr th:only-of-type {\n",
       "        vertical-align: middle;\n",
       "    }\n",
       "\n",
       "    .dataframe tbody tr th {\n",
       "        vertical-align: top;\n",
       "    }\n",
       "\n",
       "    .dataframe thead th {\n",
       "        text-align: right;\n",
       "    }\n",
       "</style>\n",
       "<table border=\"1\" class=\"dataframe\">\n",
       "  <thead>\n",
       "    <tr style=\"text-align: right;\">\n",
       "      <th></th>\n",
       "      <th>family_size</th>\n",
       "      <th>1</th>\n",
       "      <th>2</th>\n",
       "      <th>3+</th>\n",
       "    </tr>\n",
       "  </thead>\n",
       "  <tbody>\n",
       "    <tr>\n",
       "      <th>0</th>\n",
       "      <td>1</td>\n",
       "      <td>No_values</td>\n",
       "      <td>No_values</td>\n",
       "      <td>No_values</td>\n",
       "    </tr>\n",
       "    <tr>\n",
       "      <th>1</th>\n",
       "      <td>2</td>\n",
       "      <td>Mode Single</td>\n",
       "      <td>No_values</td>\n",
       "      <td>No_values</td>\n",
       "    </tr>\n",
       "    <tr>\n",
       "      <th>2</th>\n",
       "      <td>3</td>\n",
       "      <td>Mode Married</td>\n",
       "      <td>Mode Single</td>\n",
       "      <td>No_values</td>\n",
       "    </tr>\n",
       "    <tr>\n",
       "      <th>3</th>\n",
       "      <td>4</td>\n",
       "      <td>No_values</td>\n",
       "      <td>Single</td>\n",
       "      <td>Filled Single</td>\n",
       "    </tr>\n",
       "    <tr>\n",
       "      <th>4</th>\n",
       "      <td>5+</td>\n",
       "      <td>No_values</td>\n",
       "      <td>No_values</td>\n",
       "      <td>Mode Married</td>\n",
       "    </tr>\n",
       "  </tbody>\n",
       "</table>\n",
       "</div>"
      ],
      "text/plain": [
       "  family_size             1            2             3+\n",
       "0           1     No_values    No_values      No_values\n",
       "1           2   Mode Single    No_values      No_values\n",
       "2           3  Mode Married  Mode Single      No_values\n",
       "3           4     No_values       Single  Filled Single\n",
       "4          5+     No_values    No_values   Mode Married"
      ]
     },
     "execution_count": 5,
     "metadata": {},
     "output_type": "execute_result"
    }
   ],
   "source": [
    "numberchildren_familysize"
   ]
  },
  {
   "cell_type": "code",
   "execution_count": 6,
   "metadata": {},
   "outputs": [
    {
     "data": {
      "text/html": [
       "<div>\n",
       "<style scoped>\n",
       "    .dataframe tbody tr th:only-of-type {\n",
       "        vertical-align: middle;\n",
       "    }\n",
       "\n",
       "    .dataframe tbody tr th {\n",
       "        vertical-align: top;\n",
       "    }\n",
       "\n",
       "    .dataframe thead th {\n",
       "        text-align: right;\n",
       "    }\n",
       "</style>\n",
       "<table border=\"1\" class=\"dataframe\">\n",
       "  <thead>\n",
       "    <tr style=\"text-align: right;\">\n",
       "      <th></th>\n",
       "      <th>family_size</th>\n",
       "      <th>Married</th>\n",
       "      <th>single</th>\n",
       "    </tr>\n",
       "  </thead>\n",
       "  <tbody>\n",
       "    <tr>\n",
       "      <th>0</th>\n",
       "      <td>1</td>\n",
       "      <td>No_values</td>\n",
       "      <td>Mode 0</td>\n",
       "    </tr>\n",
       "    <tr>\n",
       "      <th>1</th>\n",
       "      <td>2</td>\n",
       "      <td>Mode 0</td>\n",
       "      <td>Mode 1</td>\n",
       "    </tr>\n",
       "    <tr>\n",
       "      <th>2</th>\n",
       "      <td>3</td>\n",
       "      <td>Already Filled 1</td>\n",
       "      <td>Already Filled 1 and 2</td>\n",
       "    </tr>\n",
       "    <tr>\n",
       "      <th>3</th>\n",
       "      <td>4</td>\n",
       "      <td>Filled by 2</td>\n",
       "      <td>Already Filled by 2 and 3</td>\n",
       "    </tr>\n",
       "    <tr>\n",
       "      <th>4</th>\n",
       "      <td>5+</td>\n",
       "      <td>3+ Already Filled</td>\n",
       "      <td>3+ Already Filled</td>\n",
       "    </tr>\n",
       "  </tbody>\n",
       "</table>\n",
       "</div>"
      ],
      "text/plain": [
       "  family_size            Married                     single\n",
       "0           1          No_values                     Mode 0\n",
       "1           2             Mode 0                     Mode 1\n",
       "2           3   Already Filled 1     Already Filled 1 and 2\n",
       "3           4        Filled by 2  Already Filled by 2 and 3\n",
       "4          5+  3+ Already Filled          3+ Already Filled"
      ]
     },
     "execution_count": 6,
     "metadata": {},
     "output_type": "execute_result"
    }
   ],
   "source": [
    "marital_status_familysize"
   ]
  },
  {
   "cell_type": "code",
   "execution_count": 7,
   "metadata": {},
   "outputs": [],
   "source": [
    "customerdemo1=customerdemo.copy()"
   ]
  },
  {
   "cell_type": "code",
   "execution_count": 8,
   "metadata": {},
   "outputs": [],
   "source": [
    "customerdemo1['marital_status']=np.where((customerdemo1['marital_status'].isnull()) & (customerdemo1['family_size']=='3') & (customerdemo1['no_of_children']=='2'),'Single',customerdemo1['marital_status'])\n",
    "customerdemo1['marital_status']=np.where((customerdemo1['marital_status'].isnull()) & (customerdemo1['family_size']=='2') & (customerdemo1['no_of_children']=='1'),'Single',customerdemo1['marital_status'])\n",
    "customerdemo1['marital_status']=np.where((customerdemo1['marital_status'].isnull()) & (customerdemo1['family_size']=='4') & (customerdemo1['no_of_children']=='2'),'Married',customerdemo1['marital_status'])\n",
    "customerdemo1['marital_status']=np.where((customerdemo1['marital_status'].isnull()) & (customerdemo1['family_size']=='3') & (customerdemo1['no_of_children']=='1'),'Married',customerdemo1['marital_status'])\n",
    "customerdemo1['marital_status']=np.where((customerdemo1['marital_status'].isnull()) & (customerdemo1['family_size']=='5+') & (customerdemo1['no_of_children']=='3+'),'Married',customerdemo1['marital_status'])\n",
    "customerdemo1['marital_status']=np.where((customerdemo1['marital_status'].isnull()) & (customerdemo1['family_size']=='4') & (customerdemo1['no_of_children']=='3+'),'Single',customerdemo1['marital_status'])\n",
    "customerdemo1['no_of_children']=np.where((customerdemo1['no_of_children'].isnull()) & (customerdemo['family_size']=='1') & (customerdemo['marital_status']=='Single'),'0',customerdemo1['no_of_children'])\n",
    "customerdemo1['no_of_children']=np.where((customerdemo1['no_of_children'].isnull()) & (customerdemo['family_size']=='2') & (customerdemo['marital_status']=='Married'),'0',customerdemo1['no_of_children'])\n",
    "customerdemo1['no_of_children']=np.where((customerdemo1['no_of_children'].isnull()) & (customerdemo['family_size']=='2') & (customerdemo['marital_status']=='Single'),'1',customerdemo1['no_of_children'])\n",
    "customerdemo1['marital_status']=np.where((customerdemo1['marital_status'].isnull()) & (customerdemo1['no_of_children'].isnull()) & (customerdemo1['family_size']=='1'),'Single',customerdemo1['marital_status'])\n",
    "customerdemo1['no_of_children']=np.where((customerdemo1['marital_status']=='Single') & (customerdemo1['no_of_children'].isnull()) & (customerdemo1['family_size']=='1'),'0',customerdemo1['no_of_children'])\n",
    "customerdemo1['marital_status']=np.where((customerdemo1['marital_status'].isnull()) & (customerdemo1['no_of_children'].isnull()) & (customerdemo1['family_size']=='2'),'Married',customerdemo1['marital_status'])\n",
    "customerdemo1['no_of_children']=np.where((customerdemo1['marital_status']=='Married') & (customerdemo1['no_of_children'].isnull()) & (customerdemo1['family_size']=='2'),'0',customerdemo1['no_of_children'])"
   ]
  },
  {
   "cell_type": "code",
   "execution_count": 9,
   "metadata": {},
   "outputs": [
    {
     "data": {
      "text/plain": [
       "customer_id       0\n",
       "age_range         0\n",
       "marital_status    0\n",
       "rented            0\n",
       "family_size       0\n",
       "no_of_children    0\n",
       "income_bracket    0\n",
       "dtype: int64"
      ]
     },
     "execution_count": 9,
     "metadata": {},
     "output_type": "execute_result"
    }
   ],
   "source": [
    "customerdemo1.isnull().sum()"
   ]
  },
  {
   "cell_type": "code",
   "execution_count": 10,
   "metadata": {},
   "outputs": [],
   "source": [
    "# seems that there are no more null value anymore."
   ]
  },
  {
   "cell_type": "markdown",
   "metadata": {},
   "source": [
    "# Treating campaign dataset:"
   ]
  },
  {
   "cell_type": "code",
   "execution_count": 11,
   "metadata": {},
   "outputs": [],
   "source": [
    "campaign['start_date']=pd.to_datetime(campaign['start_date'])\n",
    "campaign['end_date']=pd.to_datetime(campaign['end_date'])\n",
    "days_c=(campaign['end_date']-campaign['start_date']).astype('timedelta64[D]')\n",
    "campaign['start_date']=campaign['start_date'].astype('object')\n",
    "campaign['end_date']=campaign['end_date'].astype('object')\n",
    "for i in range(len(days_c)):\n",
    "    if days_c[i]<0:\n",
    "        a=campaign['start_date'][i]\n",
    "        campaign['start_date'].replace(campaign['start_date'][i],campaign['end_date'][i],inplace=True)\n",
    "        campaign['end_date'].replace(campaign['end_date'][i],a,inplace=True)\n",
    "campaign['start_date']=pd.to_datetime(campaign['start_date'])\n",
    "campaign['end_date']=pd.to_datetime(campaign['end_date'])\n",
    "campaign['days']=(campaign['end_date']-campaign['start_date']).astype('timedelta64[D]')"
   ]
  },
  {
   "cell_type": "code",
   "execution_count": 12,
   "metadata": {},
   "outputs": [],
   "source": [
    "# In campaign dataset we have some date wrongly misplaced as in place of start date there is end date and visa varsa.\n",
    "# replacing them by calculating the diffrance between the dates if the diffrance is negative that the there is any error.\n",
    "##### ONE IMPORTANT FEATURE CAN BE EXTRACTED FROM THIS TABLE THAT IS \"NUMBER OF DAYS THE CAMPAIGN WENT ON\"."
   ]
  },
  {
   "cell_type": "markdown",
   "metadata": {},
   "source": [
    "# Treating customer_transcation dataset:"
   ]
  },
  {
   "cell_type": "code",
   "execution_count": 13,
   "metadata": {},
   "outputs": [],
   "source": [
    "customer['total_paid']=customer['selling_price']-(abs(customer['other_discount']))-(abs(customer['coupon_discount']))"
   ]
  },
  {
   "cell_type": "code",
   "execution_count": 14,
   "metadata": {},
   "outputs": [],
   "source": [
    "# TOTAL amount spend by the customer can be one of the feature extracted.\n",
    "# Reaming datasets have no null values and clean so no treatment needed. "
   ]
  },
  {
   "cell_type": "markdown",
   "metadata": {},
   "source": [
    "# Merging the datsets"
   ]
  },
  {
   "cell_type": "code",
   "execution_count": 15,
   "metadata": {},
   "outputs": [],
   "source": [
    "coupon_item=pd.merge(coupon,item_data,how='inner',on='item_id')\n",
    "data=pd.merge(coupon_item,customer,how='inner',on='item_id')\n",
    "data.drop(columns=['brand_type','category'],inplace=True)"
   ]
  },
  {
   "cell_type": "code",
   "execution_count": 16,
   "metadata": {},
   "outputs": [],
   "source": [
    "# Here we are merging the coupon data set with the Item_dataset as \"\"\"coupon_item\"\"\" so method is inner join to get the comman columns.\n",
    "# second we are merging coupon_item table and customer_transaction_data as \"\"\"data\"\"\"."
   ]
  },
  {
   "cell_type": "code",
   "execution_count": 17,
   "metadata": {},
   "outputs": [
    {
     "data": {
      "text/html": [
       "<div>\n",
       "<style scoped>\n",
       "    .dataframe tbody tr th:only-of-type {\n",
       "        vertical-align: middle;\n",
       "    }\n",
       "\n",
       "    .dataframe tbody tr th {\n",
       "        vertical-align: top;\n",
       "    }\n",
       "\n",
       "    .dataframe thead th {\n",
       "        text-align: right;\n",
       "    }\n",
       "</style>\n",
       "<table border=\"1\" class=\"dataframe\">\n",
       "  <thead>\n",
       "    <tr style=\"text-align: right;\">\n",
       "      <th></th>\n",
       "      <th>coupon_id</th>\n",
       "      <th>item_id</th>\n",
       "      <th>brand</th>\n",
       "      <th>date</th>\n",
       "      <th>customer_id</th>\n",
       "      <th>quantity</th>\n",
       "      <th>selling_price</th>\n",
       "      <th>other_discount</th>\n",
       "      <th>coupon_discount</th>\n",
       "      <th>total_paid</th>\n",
       "    </tr>\n",
       "  </thead>\n",
       "  <tbody>\n",
       "    <tr>\n",
       "      <th>0</th>\n",
       "      <td>105</td>\n",
       "      <td>37</td>\n",
       "      <td>56</td>\n",
       "      <td>2012-03-11</td>\n",
       "      <td>1044</td>\n",
       "      <td>1</td>\n",
       "      <td>47.73</td>\n",
       "      <td>-11.04</td>\n",
       "      <td>0.0</td>\n",
       "      <td>36.69</td>\n",
       "    </tr>\n",
       "    <tr>\n",
       "      <th>1</th>\n",
       "      <td>105</td>\n",
       "      <td>37</td>\n",
       "      <td>56</td>\n",
       "      <td>2012-05-15</td>\n",
       "      <td>1044</td>\n",
       "      <td>3</td>\n",
       "      <td>142.48</td>\n",
       "      <td>-33.84</td>\n",
       "      <td>0.0</td>\n",
       "      <td>108.64</td>\n",
       "    </tr>\n",
       "    <tr>\n",
       "      <th>2</th>\n",
       "      <td>105</td>\n",
       "      <td>37</td>\n",
       "      <td>56</td>\n",
       "      <td>2012-08-23</td>\n",
       "      <td>1044</td>\n",
       "      <td>3</td>\n",
       "      <td>142.48</td>\n",
       "      <td>-27.43</td>\n",
       "      <td>0.0</td>\n",
       "      <td>115.05</td>\n",
       "    </tr>\n",
       "    <tr>\n",
       "      <th>3</th>\n",
       "      <td>105</td>\n",
       "      <td>37</td>\n",
       "      <td>56</td>\n",
       "      <td>2012-10-09</td>\n",
       "      <td>1044</td>\n",
       "      <td>2</td>\n",
       "      <td>95.11</td>\n",
       "      <td>-18.17</td>\n",
       "      <td>0.0</td>\n",
       "      <td>76.94</td>\n",
       "    </tr>\n",
       "    <tr>\n",
       "      <th>4</th>\n",
       "      <td>105</td>\n",
       "      <td>37</td>\n",
       "      <td>56</td>\n",
       "      <td>2012-10-26</td>\n",
       "      <td>1044</td>\n",
       "      <td>3</td>\n",
       "      <td>169.91</td>\n",
       "      <td>0.00</td>\n",
       "      <td>0.0</td>\n",
       "      <td>169.91</td>\n",
       "    </tr>\n",
       "  </tbody>\n",
       "</table>\n",
       "</div>"
      ],
      "text/plain": [
       "   coupon_id  item_id  brand        date  customer_id  quantity  \\\n",
       "0        105       37     56  2012-03-11         1044         1   \n",
       "1        105       37     56  2012-05-15         1044         3   \n",
       "2        105       37     56  2012-08-23         1044         3   \n",
       "3        105       37     56  2012-10-09         1044         2   \n",
       "4        105       37     56  2012-10-26         1044         3   \n",
       "\n",
       "   selling_price  other_discount  coupon_discount  total_paid  \n",
       "0          47.73          -11.04              0.0       36.69  \n",
       "1         142.48          -33.84              0.0      108.64  \n",
       "2         142.48          -27.43              0.0      115.05  \n",
       "3          95.11          -18.17              0.0       76.94  \n",
       "4         169.91            0.00              0.0      169.91  "
      ]
     },
     "execution_count": 17,
     "metadata": {},
     "output_type": "execute_result"
    }
   ],
   "source": [
    "data.head()"
   ]
  },
  {
   "cell_type": "code",
   "execution_count": 18,
   "metadata": {},
   "outputs": [],
   "source": [
    "data['other_discount']=data['other_discount'].apply(lambda x : -1*x if x<0 else x)\n",
    "data['coupon_discount']=data['coupon_discount'].apply(lambda x : -1*x if x<0 else x)"
   ]
  },
  {
   "cell_type": "code",
   "execution_count": 19,
   "metadata": {},
   "outputs": [],
   "source": [
    "## We are removing the '[-]' symbole from the other_discount,coupon_discount columns."
   ]
  },
  {
   "cell_type": "markdown",
   "metadata": {},
   "source": [
    "# Creating new columns feature extraction:"
   ]
  },
  {
   "cell_type": "code",
   "execution_count": 20,
   "metadata": {},
   "outputs": [],
   "source": [
    "quantity_count=data.pivot_table(values='quantity',index=['customer_id','coupon_id'],aggfunc='sum')\n",
    "quantity_count.reset_index(inplace=True)\n",
    "item_count=data.pivot_table(values='item_id',index=['customer_id','coupon_id'],aggfunc='count')\n",
    "item_count.reset_index(inplace=True)\n",
    "data.drop(columns=['quantity','item_id','brand'],inplace=True)\n",
    "final=pd.pivot_table(values=['selling_price','other_discount','coupon_discount','total_paid'],index=['customer_id','coupon_id'],data=data,aggfunc='sum')\n",
    "final.reset_index(inplace=True)"
   ]
  },
  {
   "cell_type": "code",
   "execution_count": 21,
   "metadata": {},
   "outputs": [],
   "source": [
    "total_p=pd.merge(final,item_count,how='left',on=['customer_id','coupon_id'])\n",
    "total=pd.merge(total_p,quantity_count,how='left',on=['customer_id','coupon_id'])\n",
    "total.rename(columns={'item_id':'item_count'},inplace=True)"
   ]
  },
  {
   "cell_type": "code",
   "execution_count": 22,
   "metadata": {},
   "outputs": [],
   "source": [
    "## TWO MORE FEATURES ARE EXTRACED FROM THE TABLE \"\"\"quantity_count\"\"\",\"\"\"item_count\"\"\" AS THERE ARE MANY Transaction for each custome.\n",
    "## Used pivot table to sum up the quantity and count the number of item customer purchased."
   ]
  },
  {
   "cell_type": "markdown",
   "metadata": {},
   "source": [
    "# Concating the test and train data set:"
   ]
  },
  {
   "cell_type": "code",
   "execution_count": 23,
   "metadata": {},
   "outputs": [],
   "source": [
    "full_data=pd.concat([train,test])"
   ]
  },
  {
   "cell_type": "code",
   "execution_count": 24,
   "metadata": {},
   "outputs": [],
   "source": [
    "full_data.reset_index(inplace=True)"
   ]
  },
  {
   "cell_type": "code",
   "execution_count": 25,
   "metadata": {},
   "outputs": [],
   "source": [
    "full_data.drop(columns=['index','id'],inplace=True)"
   ]
  },
  {
   "cell_type": "markdown",
   "metadata": {},
   "source": [
    "# Merging the Test-Train-campaign datsets:"
   ]
  },
  {
   "cell_type": "code",
   "execution_count": 26,
   "metadata": {},
   "outputs": [],
   "source": [
    "train_camp=pd.merge(full_data,campaign,how='left',on='campaign_id')\n",
    "real_data=pd.merge(train_camp,total,how='left',on=['customer_id','coupon_id'])\n",
    "real_data.drop(columns=['start_date','end_date'],inplace=True)\n",
    "real_data=pd.get_dummies(data=real_data,columns=['campaign_type'])"
   ]
  },
  {
   "cell_type": "code",
   "execution_count": 27,
   "metadata": {},
   "outputs": [],
   "source": [
    "# Merging the Test-Train-campaign datsets.\n",
    "# After Merging it seems that there are so many nullvalues so our main objective is to impute the null values."
   ]
  },
  {
   "cell_type": "code",
   "execution_count": 28,
   "metadata": {},
   "outputs": [],
   "source": [
    "real_data['redemption_status']=np.where(real_data['redemption_status'].isnull(),100000,real_data['redemption_status'])\n",
    "real_data2=real_data.copy()"
   ]
  },
  {
   "cell_type": "code",
   "execution_count": 29,
   "metadata": {},
   "outputs": [],
   "source": [
    "# replacing the null values in the redemption_status as 100000."
   ]
  },
  {
   "cell_type": "markdown",
   "metadata": {},
   "source": [
    "# Filling the null values with zero:"
   ]
  },
  {
   "cell_type": "code",
   "execution_count": 30,
   "metadata": {},
   "outputs": [],
   "source": [
    "real_data=real_data.fillna(0)"
   ]
  },
  {
   "cell_type": "code",
   "execution_count": 31,
   "metadata": {},
   "outputs": [],
   "source": [
    "# real_data we have so many null values in coupon_discount,other_discount,selling_price,total_paid so replacing the values with \"0\" \n",
    "# because if the customer did not bought anu thing and the redemption status is \"0\" that mean no transction is done by the customer \n",
    "# so we can replace values with zero but train data do not have redemption Status so there is SECOND METHOD TOO WHICH IS MENTIONED BELOW."
   ]
  },
  {
   "cell_type": "code",
   "execution_count": 32,
   "metadata": {},
   "outputs": [],
   "source": [
    "alldata=pd.merge(real_data,customerdemo1,how='left',on='customer_id')"
   ]
  },
  {
   "cell_type": "code",
   "execution_count": 33,
   "metadata": {
    "scrolled": false
   },
   "outputs": [
    {
     "data": {
      "text/plain": [
       "campaign_id              0\n",
       "coupon_id                0\n",
       "customer_id              0\n",
       "redemption_status        0\n",
       "days                     0\n",
       "coupon_discount          0\n",
       "other_discount           0\n",
       "selling_price            0\n",
       "total_paid               0\n",
       "item_count               0\n",
       "quantity                 0\n",
       "campaign_type_X          0\n",
       "campaign_type_Y          0\n",
       "age_range            53995\n",
       "marital_status       53995\n",
       "rented               53995\n",
       "family_size          53995\n",
       "no_of_children       53995\n",
       "income_bracket       53995\n",
       "dtype: int64"
      ]
     },
     "execution_count": 33,
     "metadata": {},
     "output_type": "execute_result"
    }
   ],
   "source": [
    "alldata.isnull().sum()"
   ]
  },
  {
   "cell_type": "markdown",
   "metadata": {},
   "source": [
    "# Claning the extra anomalies inside the columns:"
   ]
  },
  {
   "cell_type": "code",
   "execution_count": 34,
   "metadata": {},
   "outputs": [],
   "source": [
    "alldata['family_size']=alldata['family_size'].apply(lambda x: str(x).replace('+','') if '+' in str(x) else str(x))\n",
    "alldata['no_of_children']=alldata['no_of_children'].apply(lambda x: str(x).replace('+','') if '+' in str(x) else str(x))\n",
    "alldata['family_size']=alldata['family_size'].astype('float')\n",
    "alldata['no_of_children']=alldata['no_of_children'].astype('float')"
   ]
  },
  {
   "cell_type": "code",
   "execution_count": 35,
   "metadata": {},
   "outputs": [],
   "source": [
    "alldata['age_range']=alldata['age_range'].apply(lambda x: str(x).replace('18-25','1') if str(x)=='18-25' else str(x))\n",
    "alldata['age_range']=alldata['age_range'].apply(lambda x: str(x).replace('26-35','2') if str(x)=='26-35' else str(x))\n",
    "alldata['age_range']=alldata['age_range'].apply(lambda x: str(x).replace('36-45','3') if str(x)=='36-45' else str(x))\n",
    "alldata['age_range']=alldata['age_range'].apply(lambda x: str(x).replace('46-55','4') if str(x)=='46-55' else str(x))\n",
    "alldata['age_range']=alldata['age_range'].apply(lambda x: str(x).replace('56-70','5') if str(x)=='56-70' else str(x))\n",
    "alldata['age_range']=alldata['age_range'].apply(lambda x: str(x).replace('70+','6') if str(x)=='70+' else str(x))\n",
    "alldata['marital_status']=alldata['marital_status'].apply(lambda x: str(x).replace('Single','1') if str(x)=='Single' else str(x))\n",
    "alldata['marital_status']=alldata['marital_status'].apply(lambda x: str(x).replace('Married','2') if str(x)=='Married' else str(x))"
   ]
  },
  {
   "cell_type": "code",
   "execution_count": 36,
   "metadata": {},
   "outputs": [],
   "source": [
    "alldata['age_range']=alldata['age_range'].astype('float')\n",
    "alldata['marital_status']=alldata['marital_status'].astype('float')"
   ]
  },
  {
   "cell_type": "code",
   "execution_count": 37,
   "metadata": {},
   "outputs": [],
   "source": [
    "## As there is null values in \"\"age_range\"\",\"\"marital_status\"\" so can not lable encode.\n",
    "## as there are less number of catagories so did the encoding manually."
   ]
  },
  {
   "cell_type": "markdown",
   "metadata": {},
   "source": [
    "# Imputation of the data with the group Median:"
   ]
  },
  {
   "cell_type": "code",
   "execution_count": 38,
   "metadata": {},
   "outputs": [],
   "source": [
    "data112=alldata[['rented','family_size','no_of_children','income_bracket','age_range', 'marital_status']].fillna(alldata.groupby(['campaign_id','coupon_id'])[['rented','family_size','no_of_children','income_bracket','age_range', 'marital_status']].transform('median'))"
   ]
  },
  {
   "cell_type": "code",
   "execution_count": 39,
   "metadata": {},
   "outputs": [],
   "source": [
    "data=alldata[['campaign_id', 'coupon_id', 'customer_id', 'redemption_status', 'days',\n",
    "       'coupon_discount', 'other_discount', 'selling_price', 'total_paid',\n",
    "       'campaign_type_X', 'campaign_type_Y']]\n",
    "data[['rented','family_size','no_of_children','income_bracket','age_range','marital_status']]=data112"
   ]
  },
  {
   "cell_type": "code",
   "execution_count": 40,
   "metadata": {},
   "outputs": [],
   "source": [
    "## replacing the null values in there columns with the \"\"\"FILL NA BY APPLY AND GROUP BY function\"\"\" so with this way the\n",
    "## first grouping the is done and then the null values are fill with respective group \"\"Median\"\"."
   ]
  },
  {
   "cell_type": "markdown",
   "metadata": {},
   "source": [
    "# Splliting the full_datset into Test Train:"
   ]
  },
  {
   "cell_type": "code",
   "execution_count": 41,
   "metadata": {},
   "outputs": [],
   "source": [
    "test1=data[data['redemption_status']==100000]\n",
    "train1=data[data['redemption_status']!=100000]\n",
    "test1.drop(columns='redemption_status',inplace=True)"
   ]
  },
  {
   "cell_type": "markdown",
   "metadata": {},
   "source": [
    "# Model Building:"
   ]
  },
  {
   "cell_type": "code",
   "execution_count": 42,
   "metadata": {},
   "outputs": [],
   "source": [
    "X=train1.drop(columns='redemption_status')\n",
    "y=train1['redemption_status']"
   ]
  },
  {
   "cell_type": "markdown",
   "metadata": {},
   "source": [
    "# PCA on test-train:"
   ]
  },
  {
   "cell_type": "code",
   "execution_count": 43,
   "metadata": {},
   "outputs": [],
   "source": [
    "from sklearn.preprocessing import StandardScaler\n",
    "from sklearn.decomposition import PCA\n",
    "sc=StandardScaler()\n",
    "pca=PCA()\n",
    "\n",
    "scaledx=sc.fit_transform(X)\n",
    "scaledtest=sc.transform(test1)\n",
    "\n",
    "pcax=pca.fit_transform(X)\n",
    "pcatest=pca.transform(test1)"
   ]
  },
  {
   "cell_type": "code",
   "execution_count": 44,
   "metadata": {},
   "outputs": [],
   "source": [
    "## Did pca because with the help of pair plor able  to detemine the relations between the features  and there is high \n",
    "## multicollinearity and pca reduces dimensions and mmulticollinearity."
   ]
  },
  {
   "cell_type": "code",
   "execution_count": 45,
   "metadata": {},
   "outputs": [],
   "source": [
    "model=lm.fit(pcax,y)\n",
    "y_prob=model.predict_proba(pcatest)[:,1]"
   ]
  },
  {
   "cell_type": "code",
   "execution_count": 46,
   "metadata": {},
   "outputs": [],
   "source": [
    "#Used \"\"XGBOOST With Default Parameter\"\" and build the model used randomforest too but on xgboost getting high scores and area under the curve."
   ]
  },
  {
   "cell_type": "raw",
   "metadata": {},
   "source": [
    "id=test['id']\n",
    "df=pd.DataFrame({'id':id,'redemption_status':y_prob})\n",
    "df.to_csv('finalsubmission.csv',index=False)"
   ]
  },
  {
   "cell_type": "code",
   "execution_count": 47,
   "metadata": {},
   "outputs": [],
   "source": [
    "# got 89.8 area under the roc cure for public data.\n",
    "#got 86.08 area under the roc cure for Private data."
   ]
  },
  {
   "cell_type": "markdown",
   "metadata": {},
   "source": [
    "# Second way of imputing the values (2):"
   ]
  },
  {
   "cell_type": "code",
   "execution_count": 48,
   "metadata": {},
   "outputs": [],
   "source": [
    "alldata1=pd.merge(real_data2,customerdemo1,how='left',on='customer_id')"
   ]
  },
  {
   "cell_type": "code",
   "execution_count": 49,
   "metadata": {},
   "outputs": [],
   "source": [
    "fill_columns=alldata1[['coupon_discount','other_discount','selling_price','total_paid','item_count','quantity']].fillna(alldata1.groupby(['coupon_id','family_size'])[['coupon_discount','other_discount','selling_price','total_paid','item_count','quantity']].transform('median'))"
   ]
  },
  {
   "cell_type": "code",
   "execution_count": 50,
   "metadata": {},
   "outputs": [],
   "source": [
    "all=alldata1[['campaign_id', 'coupon_id', 'customer_id', 'redemption_status', 'days','campaign_type_X', 'campaign_type_Y',\n",
    "       'age_range', 'marital_status', 'rented', 'family_size',\n",
    "       'no_of_children', 'income_bracket']]"
   ]
  },
  {
   "cell_type": "code",
   "execution_count": 51,
   "metadata": {},
   "outputs": [],
   "source": [
    "all[['coupon_discount','other_discount','selling_price','total_paid','quantity','item_count']]=fill_columns"
   ]
  },
  {
   "cell_type": "code",
   "execution_count": 52,
   "metadata": {},
   "outputs": [],
   "source": [
    "all['family_size']=all['family_size'].apply(lambda x: str(x).replace('+','') if '+' in str(x) else str(x))\n",
    "all['no_of_children']=all['no_of_children'].apply(lambda x: str(x).replace('+','') if '+' in str(x) else str(x))\n",
    "all['family_size']=all['family_size'].astype('float')\n",
    "all['no_of_children']=all['no_of_children'].astype('float')"
   ]
  },
  {
   "cell_type": "code",
   "execution_count": 53,
   "metadata": {},
   "outputs": [],
   "source": [
    "all['age_range']=all['age_range'].apply(lambda x: str(x).replace('18-25','1') if str(x)=='18-25' else str(x))\n",
    "all['age_range']=all['age_range'].apply(lambda x: str(x).replace('26-35','2') if str(x)=='26-35' else str(x))\n",
    "all['age_range']=all['age_range'].apply(lambda x: str(x).replace('36-45','3') if str(x)=='36-45' else str(x))\n",
    "all['age_range']=all['age_range'].apply(lambda x: str(x).replace('46-55','4') if str(x)=='46-55' else str(x))\n",
    "all['age_range']=all['age_range'].apply(lambda x: str(x).replace('56-70','5') if str(x)=='56-70' else str(x))\n",
    "all['age_range']=all['age_range'].apply(lambda x: str(x).replace('70+','6') if str(x)=='70+' else str(x))\n",
    "all['marital_status']=all['marital_status'].apply(lambda x: str(x).replace('Single','1') if str(x)=='Single' else str(x))\n",
    "all['marital_status']=all['marital_status'].apply(lambda x: str(x).replace('Married','2') if str(x)=='Married' else str(x))\n",
    "all['age_range']=all['age_range'].astype('float')\n",
    "all['marital_status']=all['marital_status'].astype('float')"
   ]
  },
  {
   "cell_type": "code",
   "execution_count": 54,
   "metadata": {},
   "outputs": [],
   "source": [
    "data1995=all[['rented','family_size','no_of_children','income_bracket','age_range', 'marital_status','coupon_discount','other_discount','selling_price','total_paid','quantity','item_count']].fillna(all.groupby(['campaign_id','coupon_id'])[['rented','family_size','no_of_children','income_bracket','age_range', 'marital_status','coupon_discount','other_discount','selling_price','total_paid','quantity','item_count']].transform('median'))"
   ]
  },
  {
   "cell_type": "code",
   "execution_count": 55,
   "metadata": {},
   "outputs": [],
   "source": [
    "dat=all[['campaign_id','coupon_id','customer_id','redemption_status','days','campaign_type_X','campaign_type_Y']]"
   ]
  },
  {
   "cell_type": "code",
   "execution_count": 56,
   "metadata": {},
   "outputs": [],
   "source": [
    "dat[['rented','family_size','no_of_children','income_bracket','age_range', 'marital_status','coupon_discount','other_discount','selling_price','total_paid','quantity','item_count']]=data1995"
   ]
  },
  {
   "cell_type": "code",
   "execution_count": 57,
   "metadata": {},
   "outputs": [],
   "source": [
    "dat['coupon_discount'].fillna(dat['coupon_discount'].median(),inplace=True)\n",
    "dat['other_discount'].fillna(dat['other_discount'].median(),inplace=True)\n",
    "dat['selling_price'].fillna(dat['selling_price'].median(),inplace=True)\n",
    "dat['total_paid'].fillna(dat['total_paid'].median(),inplace=True)\n",
    "dat['quantity'].fillna(dat['quantity'].median(),inplace=True)\n",
    "dat['item_count'].fillna(dat['item_count'].median(),inplace=True)"
   ]
  },
  {
   "cell_type": "markdown",
   "metadata": {},
   "source": [
    "# Splliting the full_datset into Test Train:"
   ]
  },
  {
   "cell_type": "code",
   "execution_count": 58,
   "metadata": {},
   "outputs": [],
   "source": [
    "test2=dat[dat['redemption_status']==100000]\n",
    "train2=dat[dat['redemption_status']!=100000]\n",
    "test2.drop(columns='redemption_status',inplace=True)"
   ]
  },
  {
   "cell_type": "markdown",
   "metadata": {},
   "source": [
    "# Model Building:"
   ]
  },
  {
   "cell_type": "code",
   "execution_count": 59,
   "metadata": {},
   "outputs": [],
   "source": [
    "X=train2.drop(columns='redemption_status')\n",
    "y=train2['redemption_status']"
   ]
  },
  {
   "cell_type": "code",
   "execution_count": 60,
   "metadata": {},
   "outputs": [],
   "source": [
    "model=lm.fit(X,y)\n",
    "y_prob=model.predict_proba(test2)[:,1]"
   ]
  },
  {
   "cell_type": "code",
   "execution_count": 61,
   "metadata": {},
   "outputs": [],
   "source": [
    "# got 81.4 area under the roc cure for public data.\n",
    "#got 81.5 area under the roc cure for Private data."
   ]
  },
  {
   "cell_type": "code",
   "execution_count": 62,
   "metadata": {},
   "outputs": [],
   "source": [
    "#---------------------------------------------------------END-------------------------------------------------------------------"
   ]
  },
  {
   "cell_type": "code",
   "execution_count": 63,
   "metadata": {},
   "outputs": [],
   "source": [
    "#Featuring engneering is not done like:selection of features .\n",
    "#but did Feature extration as added few new features to the table as it place the vital role in preducting the given target.\n",
    "#For feature engneering we can use SKLEARN.FEATURE SELECTION."
   ]
  },
  {
   "cell_type": "code",
   "execution_count": null,
   "metadata": {},
   "outputs": [],
   "source": [
    "#from sklearn.feature_selection import SelectKBest\n",
    "#from sklearn.feature_selection import chi2\n",
    "#bestfeatures = SelectKBest()\n",
    "#fit = bestfeatures.fit()\n",
    "#dfscores = pd.DataFrame(fit.scores_)"
   ]
  },
  {
   "cell_type": "code",
   "execution_count": 64,
   "metadata": {},
   "outputs": [],
   "source": [
    "#Once feature engneering can agin run the model with those columns into consuderation."
   ]
  },
  {
   "cell_type": "code",
   "execution_count": null,
   "metadata": {},
   "outputs": [],
   "source": []
  }
 ],
 "metadata": {
  "kernelspec": {
   "display_name": "Python 3",
   "language": "python",
   "name": "python3"
  },
  "language_info": {
   "codemirror_mode": {
    "name": "ipython",
    "version": 3
   },
   "file_extension": ".py",
   "mimetype": "text/x-python",
   "name": "python",
   "nbconvert_exporter": "python",
   "pygments_lexer": "ipython3",
   "version": "3.7.3"
  }
 },
 "nbformat": 4,
 "nbformat_minor": 2
}
